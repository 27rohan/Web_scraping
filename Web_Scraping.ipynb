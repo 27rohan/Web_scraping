{
 "cells": [
  {
   "cell_type": "code",
   "execution_count": null,
   "metadata": {
    "collapsed": true
   },
   "outputs": [],
   "source": [
    "from bs4 import BeautifulSoup; #import beautiful soup scraper"
   ]
  },
  {
   "cell_type": "code",
   "execution_count": null,
   "metadata": {
    "collapsed": true
   },
   "outputs": [],
   "source": [
    "import urllib2 #url library \n",
    "import pandas as pd; #dataframe for final output \n",
    "import re #regular expression package\n",
    "import warnings\n",
    "warnings.filterwarnings('ignore')"
   ]
  },
  {
   "cell_type": "code",
   "execution_count": null,
   "metadata": {
    "collapsed": false
   },
   "outputs": [],
   "source": [
    "url_new= 'http://cse.iitkgp.ac.in/oldlook/curriculum.html' #set url \n",
    "page_new = urllib2.urlopen(url_new) #open the url \n",
    "soup_new = BeautifulSoup(page_new.read()) #read in beautiful soup"
   ]
  },
  {
   "cell_type": "code",
   "execution_count": null,
   "metadata": {
    "collapsed": true
   },
   "outputs": [],
   "source": [
    "#Retrieving all the 6 tables in the page \n",
    "tables = [s for s in soup_new.find_all('table')]\n",
    "\n",
    "#All cells in the first table\n",
    "org = [s.get_text() for s in tables[0].find_all('td')]\n",
    "\n",
    "#Removing the cells corresponding 'semester' column of the table which is useless for us\n",
    "maaro = [(s.get_text()) for s in tables[0].findAll(\"td\", { \"valign\":\"top\" })]\n",
    "\n",
    "for i in maaro:\n",
    "    org.remove(i)\n",
    "\n",
    "#empty lists to store id, name and prerequisites of each course throughout the page\n",
    "course_id = []\n",
    "course_name = []\n",
    "prereq = []   \n",
    "    \n",
    "#filling the 3 required columns    \n",
    "for i in range(len(org)):\n",
    "    if(i%7==2):\n",
    "        course_id.append(org[i])\n",
    "    if(i%7==3):\n",
    "        course_name.append(org[i])\n",
    "    if(i%7==6):\n",
    "        prereq.append(org[i])"
   ]
  },
  {
   "cell_type": "code",
   "execution_count": null,
   "metadata": {
    "collapsed": false
   },
   "outputs": [],
   "source": [
    "#All cells in the second table\n",
    "org = [s.get_text() for s in tables[1].find_all('td')]\n",
    "\n",
    "#Removing the cells corresponding 'semester' column of the table which is useless for us\n",
    "maaro = [(s.get_text()) for s in tables[1].findAll(\"td\", { \"valign\":\"top\" })]\n",
    "\n",
    "for i in maaro:\n",
    "    org.remove(i)\n",
    "\n",
    "#filling the 3 required columns    \n",
    "for i in range(len(org)):\n",
    "    if(i%7==2):\n",
    "        course_id.append(org[i])\n",
    "    if(i%7==3):\n",
    "        course_name.append(org[i])\n",
    "    if(i%7==6):\n",
    "        prereq.append(org[i]) "
   ]
  },
  {
   "cell_type": "code",
   "execution_count": null,
   "metadata": {
    "collapsed": false
   },
   "outputs": [],
   "source": [
    "#All cells in the third table\n",
    "org = [s.get_text() for s in tables[2].find_all('td')]\n",
    "\n",
    "#Removing the cells corresponding 'semester' column of the table which is useless for us\n",
    "maaro = [(s.get_text()) for s in tables[2].findAll(\"td\", { \"valign\":\"top\" })]\n",
    "\n",
    "for i in maaro:\n",
    "    org.remove(i)\n",
    "\n",
    "#filling the 3 required columns    \n",
    "for i in range(len(org)):\n",
    "    if(i%7==2):\n",
    "        course_id.append(org[i])\n",
    "    if(i%7==3):\n",
    "        course_name.append(org[i])\n",
    "    if(i%7==6):\n",
    "        prereq.append(org[i]) "
   ]
  },
  {
   "cell_type": "code",
   "execution_count": null,
   "metadata": {
    "collapsed": false
   },
   "outputs": [],
   "source": [
    "#All cells in the fifth table (skipping fourth table since it doesn't have the prerequisites column)\n",
    "org = [s.get_text() for s in tables[4].find_all('td')]\n",
    "\n",
    "#Removing the cells corresponding 'semester' column of the table which is useless for us\n",
    "maaro = [(s.get_text()) for s in tables[4].findAll(\"td\", { \"valign\":\"top\" })]\n",
    "\n",
    "for i in maaro:\n",
    "    org.remove(i)\n",
    "\n",
    "#filling the 3 required columns    \n",
    "for i in range(len(org)):\n",
    "    if(i%5==0):\n",
    "        course_id.append(org[i])\n",
    "    if(i%5==1):\n",
    "        course_name.append(org[i])\n",
    "    if(i%5==4):\n",
    "        prereq.append(org[i]) "
   ]
  },
  {
   "cell_type": "code",
   "execution_count": null,
   "metadata": {
    "collapsed": true
   },
   "outputs": [],
   "source": [
    "#All cells in the sixth table\n",
    "org = [s.get_text() for s in tables[5].find_all('td')]\n",
    "\n",
    "#Removing the cells corresponding 'semester' column of the table which is useless for us\n",
    "maaro = [(s.get_text()) for s in tables[5].findAll(\"td\", { \"valign\":\"top\" })]\n",
    "\n",
    "for i in maaro:\n",
    "    org.remove(i)\n",
    "\n",
    "#filling the 3 required columns    \n",
    "for i in range(len(org)):\n",
    "    if(i%5==0):\n",
    "        course_id.append(org[i])\n",
    "    if(i%5==1):\n",
    "        course_name.append(org[i])\n",
    "    if(i%5==4):\n",
    "        prereq.append(org[i]) "
   ]
  },
  {
   "cell_type": "code",
   "execution_count": null,
   "metadata": {
    "collapsed": false
   },
   "outputs": [],
   "source": [
    "#to store date of scraping, university name, department name\n",
    "date = []\n",
    "university = []\n",
    "department = []\n",
    "\n",
    "import time\n",
    "#date when scraping occurs\n",
    "current_date = time.strftime(\"%d/%m/%Y\")\n",
    "\n",
    "for i in range(len(course_id)):\n",
    "    date.append(current_date)\n",
    "    #since data is being imported from CSE department of IIT-Kharagpur\n",
    "    university.append('IIT-Kharagpur')\n",
    "    department.append('Computer Science and Engineering')\n",
    "\n",
    "#new data-frame to store catalog\n",
    "data = pd.DataFrame(columns=['date','university','department','code','name','prerequisites'])\n",
    "data.date = date\n",
    "data.university = university\n",
    "data.department = department\n",
    "data.code = course_id\n",
    "data.name = course_name\n",
    "data.prerequisites = prereq\n",
    "\n",
    "#Removing all the next-line characters at the end of each cell, which are of no use to us\n",
    "data.prerequisites = data.prerequisites.str.replace('\\n','')"
   ]
  },
  {
   "cell_type": "code",
   "execution_count": null,
   "metadata": {
    "collapsed": true
   },
   "outputs": [],
   "source": [
    "#Removing all the 'xa0' unicode characters which are of no use to us\n",
    "data.code = data.code.replace(u'\\xa0', u' ')\n",
    "data.name = data.name.replace(u'\\xa0', u' ')\n",
    "\n",
    "data.prerequisites = data.prerequisites.replace(u'\\xa0', u' ')\n",
    "\n",
    "#since prerequisites are required to be separated b ';'\n",
    "data.prerequisites = data.prerequisites.str.replace(',', ';')\n",
    "\n",
    "#To standardize so that all courses with no prerequisites have no text in the 3rd column\n",
    "data.prerequisites = data.prerequisites.replace(u'None', u' ')"
   ]
  },
  {
   "cell_type": "code",
   "execution_count": null,
   "metadata": {
    "collapsed": false
   },
   "outputs": [],
   "source": [
    "code = []\n",
    "name = []\n",
    "pre = []\n",
    "\n",
    "#Converting to string format \n",
    "for i in data.code:\n",
    "    #since it spits out an additional unwanted 'xc2' when 'xa0' appears before \n",
    "    code.append((i.encode('utf-8')).replace('\\xc2\\xa0',''))\n",
    "for i in data.name:\n",
    "    name.append(i.encode('utf-8'))\n",
    "for i in data.prerequisites:\n",
    "    pre.append(i.encode('utf-8'))\n",
    "    \n",
    "#Replacing all 3 columns with string versions of columns\n",
    "data.code = code\n",
    "data.name = name\n",
    "data.prerequisites = pre"
   ]
  },
  {
   "cell_type": "code",
   "execution_count": null,
   "metadata": {
    "collapsed": false
   },
   "outputs": [],
   "source": [
    "no_of_preq = []\n",
    "\n",
    "#Calculating number of prerequisites for each course\n",
    "for i in range(len(data.code)):\n",
    "    count = data.prerequisites[i].count(';')\n",
    "    if count==0 and len(data.prerequisites[i])==1:\n",
    "        no_of_preq.append(0)\n",
    "    else:\n",
    "        no_of_preq.append(count+1)\n",
    "\n",
    "#Adding this as a new column to data-frame\n",
    "data['number_of_prerequisites'] = no_of_preq     "
   ]
  },
  {
   "cell_type": "code",
   "execution_count": null,
   "metadata": {
    "collapsed": false
   },
   "outputs": [],
   "source": [
    "#To plot histogram\n",
    "import matplotlib.pyplot as plt\n",
    "\n",
    "# Spreading the plot to wider extent\n",
    "fig = plt.figure(figsize=(15,5))\n",
    "\n",
    "# Creating a subplot of matplotlib to incorporate required modifications\n",
    "ax = fig.add_subplot(111)\n",
    "\n",
    "# Hiding the right and top axes\n",
    "ax.spines['right'].set_visible(False)\n",
    "ax.spines['top'].set_visible(False)\n",
    "\n",
    "# Only show ticks on the left and bottom spines\n",
    "ax.yaxis.set_ticks_position('left')\n",
    "ax.xaxis.set_ticks_position('bottom')\n",
    "\n",
    "#Histogram of number of prerequisites (excluding courses without course IDs because they are undetermined electives and \n",
    "#will, thus, naturally lack any predefined prerequisite)\n",
    "ax.hist(data[data.code!=' '].number_of_prerequisites)\n",
    "\n",
    "# Labeling the graph\n",
    "plt.ylabel(\"Number of courses\")\n",
    "plt.xlabel(\"Number of prerequisities\")\n",
    "plt.title(\"Histogram of number of prerequisities for courses in IIT-Kharagpur\")\n",
    "\n",
    "#saving the resultant histogram as an image \n",
    "fig.savefig('Downloads\\\\Histogram_visualization.png')"
   ]
  },
  {
   "cell_type": "code",
   "execution_count": null,
   "metadata": {
    "collapsed": false,
    "scrolled": true
   },
   "outputs": [],
   "source": [
    "#Exporting data-frame to a csv file\n",
    "data.to_csv('Downloads\\\\IIT-Kharagpur_course_catalog.csv')"
   ]
  }
 ],
 "metadata": {
  "kernelspec": {
   "display_name": "Python 2",
   "language": "python",
   "name": "python2"
  },
  "language_info": {
   "codemirror_mode": {
    "name": "ipython",
    "version": 2
   },
   "file_extension": ".py",
   "mimetype": "text/x-python",
   "name": "python",
   "nbconvert_exporter": "python",
   "pygments_lexer": "ipython2",
   "version": "2.7.11"
  }
 },
 "nbformat": 4,
 "nbformat_minor": 0
}
